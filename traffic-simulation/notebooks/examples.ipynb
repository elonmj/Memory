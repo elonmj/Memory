{
 "cells": [
  {
   "cell_type": "markdown",
   "metadata": {},
   "source": [
    "# Traffic Simulation Examples\n",
    "\n",
    "This notebook provides examples and demonstrations of how to use the traffic simulation model implemented in this project. We will explore various scenarios, including the red light scenario, shock wave, and rarefaction wave."
   ]
  },
  {
   "cell_type": "code",
   "execution_count": 1,
   "metadata": {},
   "outputs": [],
   "source": [
    "# Import necessary modules\n",
    "import sys\n",
    "sys.path.append('../src')  # Adjust the path to import from the src directory\n",
    "\n",
    "from models.lwr_model import ModeleLWR\n",
    "from scenarios.red_light import exemple_feu_rouge\n",
    "from scenarios.shock_wave import exemple_onde_choc\n",
    "from scenarios.rarefaction_wave import exemple_onde_rarefaction\n",
    "\n",
    "# Set parameters for the simulation\n",
    "rho_max = 180  # Maximum density (vehicles/km)\n",
    "v_max = 100    # Maximum speed (km/h)\n",
    "\n",
    "# Example 1: Red Light Scenario\n",
    "print(\"Running Red Light Scenario...\")\n",
    "densite_red_light, grille_x_red_light, grille_t_red_light = exemple_feu_rouge()\n",
    "\n",
    "# Example 2: Shock Wave Scenario\n",
    "print(\"Running Shock Wave Scenario...\")\n",
    "densite_shock_wave, grille_x_shock_wave, grille_t_shock_wave = exemple_onde_choc()\n",
    "\n",
    "# Example 3: Rarefaction Wave Scenario\n",
    "print(\"Running Rarefaction Wave Scenario...\")\n",
    "densite_rarefaction_wave, grille_x_rarefaction_wave, grille_t_rarefaction_wave = exemple_onde_rarefaction()\n",
    "\n",
    "# All scenarios have been executed."
   ]
  }
 ],
 "metadata": {
  "kernelspec": {
   "display_name": "Python 3",
   "language": "python",
   "name": "python3"
  },
  "language_info": {
   "codemirror_mode": {
    "name": "ipython",
    "version": 3
   },
   "file_extension": ".py",
   "mimetype": "text/x-python",
   "name": "python",
   "nbconvert_exporter": "python",
   "pygments_lexer": "ipython3",
   "version": "3.8.5"
  }
 },
 "nbformat": 4,
 "nbformat_minor": 4
}